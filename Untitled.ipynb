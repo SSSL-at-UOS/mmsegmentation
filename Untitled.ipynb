{
 "cells": [
  {
   "cell_type": "code",
   "execution_count": 2,
   "metadata": {},
   "outputs": [
    {
     "name": "stderr",
     "output_type": "stream",
     "text": [
      "/home/soojin/anaconda3/envs/mmseg/lib/python3.7/site-packages/setuptools/distutils_patch.py:26: UserWarning: Distutils was imported before Setuptools. This usage is discouraged and may exhibit undesirable behaviors or errors. Please use Setuptools' objects directly or at least import Setuptools first.\n",
      "  \"Distutils was imported before Setuptools. This usage is discouraged \"\n"
     ]
    }
   ],
   "source": [
    "from mmseg.apis import init_segmentor, inference_segmentor, show_result_pyplot\n",
    "from mmseg.core.evaluation import get_palette\n",
    "import numpy as np\n",
    "import cv2\n",
    "import slidingwindow as sw\n",
    "import tqdm\n",
    "import os\n",
    "import glob"
   ]
  },
  {
   "cell_type": "code",
   "execution_count": 4,
   "metadata": {},
   "outputs": [],
   "source": [
    "config_file = '/home/soojin/mmsegmentation/checkpoints/2020.09.02_deeplabv3plus_r101-d8_769x769_40k_concrete_damage_cs/deeplabv3plus_r101-d8_769x769_40k_concrete_damage_cs.py'\n",
    "checkpoint_file = '/home/soojin/mmsegmentation/checkpoints/2020.09.02_deeplabv3plus_r101-d8_769x769_40k_concrete_damage_cs/iter_40000.pth'"
   ]
  },
  {
   "cell_type": "code",
   "execution_count": 5,
   "metadata": {},
   "outputs": [],
   "source": [
    "# build the model from a config file and a checkpoint file\n",
    "model = init_segmentor(config_file, checkpoint_file, device='cuda:1')"
   ]
  },
  {
   "cell_type": "code",
   "execution_count": 14,
   "metadata": {},
   "outputs": [],
   "source": [
    "# test a single image\n",
    "img = '/home/soojin/UOS-SSaS Dropbox/05. Data/02. Training&Test/concrete_damage_autocon/test2018/con_dmg_1591340183_.jpg'\n",
    "result = inference_segmentor(model, img)"
   ]
  },
  {
   "cell_type": "code",
   "execution_count": 6,
   "metadata": {},
   "outputs": [],
   "source": [
    "\n",
    "def imread(filename, flags=cv2.IMREAD_COLOR, dtype=np.uint8):\n",
    "    try:\n",
    "        n = np.fromfile(filename, dtype)\n",
    "        imageBGR = cv2.imdecode(n, flags)\n",
    "        return cv2.cvtColor(imageBGR, cv2.COLOR_BGR2RGB)\n",
    "\n",
    "    except Exception as e:\n",
    "        print(e)\n",
    "        return None\n",
    "\n",
    "\n",
    "def imwrite(filename, imageRGB, params=None):\n",
    "    try:\n",
    "        ext = os.path.splitext(filename)[1]\n",
    "        imageBGR = cv2.cvtColor(imageRGB, cv2.COLOR_RGB2BGR)\n",
    "        result, n = cv2.imencode(ext, imageBGR, params)\n",
    "        if result:\n",
    "            with open(filename, mode='w+b') as f:\n",
    "                n.tofile(f)\n",
    "                return True\n",
    "        else:\n",
    "                return False\n",
    "\n",
    "    except Exception as e:\n",
    "        print(e)\n",
    "        return False"
   ]
  },
  {
   "cell_type": "code",
   "execution_count": 7,
   "metadata": {},
   "outputs": [],
   "source": [
    "def inference_segmentor_sliding_window(model, input_img, color_mask, num_classes, \n",
    "                                      score_thr = 0.1, window_size = 1024, overlap_ratio = 0.1,):\n",
    "\n",
    "\n",
    "    '''\n",
    "    :param model: is a mmdetection model object\n",
    "    :param input_img : str or numpy array\n",
    "                    if str, run imread from input_img\n",
    "    :param score_thr: is float number between 0 and 1.\n",
    "                   Bounding boxes with a confidence higher than score_thr will be displayed,\n",
    "                   in 'img_result' and 'mask_output'.\n",
    "    :param window_size: is a subset size to be detected at a time.\n",
    "                        default = 1024, integer number\n",
    "    :param overlap_ratio: is a overlap size.\n",
    "                        If you overlap sliding windows by 50%, overlap_ratio is 0.5.\n",
    "\n",
    "    :return: img_result\n",
    "    :return: mask_output\n",
    "\n",
    "    '''\n",
    "\n",
    "    # color mask has to be updated for multiple-class object detection\n",
    "    if isinstance(input_img, str) :\n",
    "        img = imread(input_img)\n",
    "    else :\n",
    "        img = input_img\n",
    "\n",
    "    # Generate the set of windows, with a 256-pixel max window size and 50% overlap\n",
    "    windows = sw.generate(img, sw.DimOrder.HeightWidthChannel, window_size, overlap_ratio)\n",
    "    mask_output = np.zeros((img.shape[0], img.shape[1], num_classes), dtype=np.uint8)\n",
    "\n",
    "#     if isinstance(input_img, str) :\n",
    "#         tqdm_window = tqdm(windows, ascii=True, desc='inference by sliding window on ' + os.path.basename(input_img))\n",
    "#     else :\n",
    "#         tqdm_window = tqdm(windows, ascii=True, desc='inference by sliding window ')\n",
    "\n",
    "    for window in windows :\n",
    "        # Add print option for sliding window detection\n",
    "        img_subset = img[window.indices()]\n",
    "        results = inference_segmentor(model, img_subset)[0]\n",
    "        results_onehot = (np.arange(num_classes) == results[...,None]-1).astype(int)\n",
    "\n",
    "        mask_output[window.indices()] = mask_output[window.indices()] + results_onehot\n",
    "\n",
    "    mask_output[mask_output > 1] = 1\n",
    "\n",
    "    mask_output_bool = mask_output.astype(np.bool)\n",
    "\n",
    "    # Add colors to detection result on img\n",
    "    img_result = img\n",
    "    for num in range(num_classes-1) : \n",
    "        img_result[mask_output_bool[:,:,num], :] = img_result[mask_output_bool[:,:,num],:] * 0.3 + np.asarray(color_mask[num], dtype = np.float) * 0.6\n",
    "\n",
    "    return img_result, mask_output"
   ]
  },
  {
   "cell_type": "code",
   "execution_count": 107,
   "metadata": {},
   "outputs": [],
   "source": [
    "test_img_path = '/home/soojin/다운로드/P5 ALL.jpg'\n",
    "test_img = imread(test_img_path)\n"
   ]
  },
  {
   "cell_type": "code",
   "execution_count": 108,
   "metadata": {},
   "outputs": [],
   "source": [
    "img_result, mask_output = inference_segmentor_sliding_window(model, test_img, get_palette('concrete_damage_as_cityscapes')[1:], 4)\n"
   ]
  },
  {
   "cell_type": "code",
   "execution_count": 109,
   "metadata": {},
   "outputs": [
    {
     "data": {
      "text/plain": [
       "True"
      ]
     },
     "execution_count": 109,
     "metadata": {},
     "output_type": "execute_result"
    }
   ],
   "source": [
    "imwrite('/home/soojin/다운로드/P5 ALL_result_seg.jpg', img_result) "
   ]
  },
  {
   "cell_type": "code",
   "execution_count": 9,
   "metadata": {},
   "outputs": [],
   "source": [
    "folder = '/home/soojin/다운로드/금토2교/교각 촬영 이미지(촬영거리 15m)/det_vs_seg'\n",
    "img_list = glob.glob(os.path.join(folder, '*.jpg'))\n",
    "\n",
    "\n",
    "for img_path in img_list : \n",
    "    img_subset = imread(img_path)\n",
    "\n",
    "    \n",
    "    img_result, mask_output = inference_segmentor_sliding_window(model, img_subset, get_palette('concrete_damage_as_cityscapes')[1:], 4)\n",
    "\n",
    "    imwrite(img_path[:-4]+'sef_result.jpeg', img_result)"
   ]
  },
  {
   "cell_type": "code",
   "execution_count": 10,
   "metadata": {},
   "outputs": [],
   "source": [
    "folder = '/home/soojin/다운로드/garibong'\n",
    "img_list = glob.glob(os.path.join(folder, '*.jpg'))\n",
    "\n",
    "\n",
    "for img_path in img_list : \n",
    "    img_subset = imread(img_path)\n",
    "\n",
    "    \n",
    "    img_result, mask_output = inference_segmentor_sliding_window(model, img_subset, get_palette('concrete_damage_as_cityscapes')[1:], 4)\n",
    "\n",
    "    imwrite(img_path[:-4]+'sef_result.jpeg', img_result)"
   ]
  }
 ],
 "metadata": {
  "kernelspec": {
   "display_name": "Python 3",
   "language": "python",
   "name": "python3"
  },
  "language_info": {
   "codemirror_mode": {
    "name": "ipython",
    "version": 3
   },
   "file_extension": ".py",
   "mimetype": "text/x-python",
   "name": "python",
   "nbconvert_exporter": "python",
   "pygments_lexer": "ipython3",
   "version": "3.7.0"
  }
 },
 "nbformat": 4,
 "nbformat_minor": 4
}
